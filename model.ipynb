{
 "cells": [
  {
   "cell_type": "code",
   "execution_count": 1,
   "metadata": {},
   "outputs": [],
   "source": [
    "#importing important libraries\n",
    "\n",
    "import pandas as pd\n",
    "import numpy as np\n",
    "\n",
    "from wordcloud import WordCloud\n",
    "\n",
    "import tweepy\n",
    "import re\n",
    "\n",
    "#libraries for cleaning the words\n",
    "import nltk\n",
    "\n",
    "from nltk.corpus import stopwords\n",
    "\n",
    "from nltk.tokenize import word_tokenize\n",
    "from nltk.stem import WordNetLemmatizer\n",
    "\n",
    "\n",
    "#importing important libraries\n",
    "import requests\n",
    "from bs4 import BeautifulSoup\n",
    "\n",
    "import matplotlib.pyplot as plt\n",
    "import seaborn as sns\n",
    "\n",
    "from tqdm import tqdm\n",
    "\n",
    "%matplotlib inline\n",
    "\n",
    "#from googletrans import Translator\n",
    "\n",
    "import warnings\n",
    "warnings.filterwarnings('ignore')"
   ]
  },
  {
   "cell_type": "code",
   "execution_count": null,
   "metadata": {},
   "outputs": [],
   "source": []
  },
  {
   "cell_type": "code",
   "execution_count": 2,
   "metadata": {},
   "outputs": [],
   "source": [
    "df=pd.read_csv(\"tweeter api key.csv\")\n"
   ]
  },
  {
   "cell_type": "markdown",
   "metadata": {},
   "source": [
    "# Creating keys to access tweets from twitter"
   ]
  },
  {
   "cell_type": "code",
   "execution_count": 3,
   "metadata": {},
   "outputs": [],
   "source": [
    "#Tweeter API credentials\n",
    "consumer_key=df['Key'][0]\n",
    "consumer_secret_key=df['Key'][1]\n",
    "access_token=df['Key'][3]\n",
    "access_token_secret=df['Key'][4]\n"
   ]
  },
  {
   "cell_type": "code",
   "execution_count": 4,
   "metadata": {},
   "outputs": [],
   "source": [
    "#creating the othentication object\n",
    "authentication=tweepy.OAuthHandler(consumer_key,consumer_secret_key)\n",
    "\n",
    "#set the access token and access token secret\n",
    "authentication.set_access_token(access_token,access_token_secret)\n",
    "\n",
    "#creat the API object while passing the auth information\n",
    "api=tweepy.API(authentication, wait_on_rate_limit=True)"
   ]
  },
  {
   "cell_type": "markdown",
   "metadata": {},
   "source": [
    "# Scrapping Tweeter ID from wikipedia"
   ]
  },
  {
   "cell_type": "code",
   "execution_count": 5,
   "metadata": {},
   "outputs": [],
   "source": [
    "\n",
    "url=\"https://en.wikipedia.org/wiki/List_of_most-followed_Twitter_accounts\"\n",
    "headers = {\n",
    "    'User-Agent': 'Mozilla/5.0 (Macintosh; Intel Mac OS X 10.12; rv:55.0) Gecko/20100101 Firefox/55.0',\n",
    "}\n",
    "r=requests.get(url, headers=headers)\n",
    "page=r.content\n",
    "soup = BeautifulSoup(page,'html.parser')\n"
   ]
  },
  {
   "cell_type": "markdown",
   "metadata": {},
   "source": [
    "# Creating a dataframe of clean tweets"
   ]
  },
  {
   "cell_type": "code",
   "execution_count": 6,
   "metadata": {},
   "outputs": [
    {
     "name": "stderr",
     "output_type": "stream",
     "text": [
      "100%|██████████| 50/50 [00:00<00:00, 199.56it/s]\n",
      "100%|██████████| 200/200 [00:00<?, ?it/s]\n",
      "100%|██████████| 200/200 [00:00<?, ?it/s]s/it]\n",
      "100%|██████████| 200/200 [00:00<?, ?it/s]s/it]\n",
      "100%|██████████| 200/200 [00:00<?, ?it/s]s/it]\n",
      "100%|██████████| 200/200 [00:00<?, ?it/s]s/it]\n",
      "100%|██████████| 200/200 [00:00<00:00, 137001.60it/s]\n",
      "100%|██████████| 200/200 [00:00<00:00, 199112.46it/s]\n",
      "100%|██████████| 199/199 [00:00<?, ?it/s]s/it]\n",
      "100%|██████████| 200/200 [00:00<?, ?it/s]s/it]\n",
      "100%|██████████| 200/200 [00:00<?, ?it/s]s/it]\n",
      "100%|██████████| 200/200 [00:00<?, ?it/s]5s/it]\n",
      "100%|██████████| 200/200 [00:00<?, ?it/s]2it/s]\n",
      "100%|██████████| 199/199 [00:00<?, ?it/s]3s/it]\n",
      "100%|██████████| 200/200 [00:00<?, ?it/s]6s/it]\n",
      "100%|██████████| 200/200 [00:00<?, ?it/s]5s/it]\n",
      "100%|██████████| 189/189 [00:00<?, ?it/s]1s/it]\n",
      "100%|██████████| 199/199 [00:00<?, ?it/s]4it/s]\n",
      "100%|██████████| 200/200 [00:00<00:00, 198406.05it/s]\n",
      "100%|██████████| 200/200 [00:00<?, ?it/s]2s/it]\n",
      "100%|██████████| 200/200 [00:00<?, ?it/s]9s/it]\n",
      "100%|██████████| 195/195 [00:00<?, ?it/s]8s/it]\n",
      "100%|██████████| 200/200 [00:00<?, ?it/s]8s/it]\n",
      "100%|██████████| 200/200 [00:00<?, ?it/s]0s/it]\n",
      "100%|██████████| 200/200 [00:00<?, ?it/s]6s/it]\n",
      "100%|██████████| 200/200 [00:00<?, ?it/s]6s/it]\n",
      "100%|██████████| 199/199 [00:00<?, ?it/s]7s/it]\n",
      "100%|██████████| 200/200 [00:00<00:00, 198923.59it/s]\n",
      "100%|██████████| 200/200 [00:00<?, ?it/s]0it/s]\n",
      "100%|██████████| 200/200 [00:00<?, ?it/s]0it/s]\n",
      "100%|██████████| 200/200 [00:00<?, ?it/s]0s/it]\n",
      "100%|██████████| 200/200 [00:00<00:00, 200014.50it/s]\n",
      "100%|██████████| 198/198 [00:00<?, ?it/s]3s/it]\n",
      "100%|██████████| 199/199 [00:00<?, ?it/s]6s/it]\n",
      "100%|██████████| 200/200 [00:00<?, ?it/s]7s/it]\n",
      "100%|██████████| 200/200 [00:00<?, ?it/s]8s/it]\n",
      "100%|██████████| 200/200 [00:00<00:00, 190045.49it/s]\n",
      "100%|██████████| 200/200 [00:00<?, ?it/s]5s/it]\n",
      "100%|██████████| 200/200 [00:00<00:00, 436225.07it/s]\n",
      "100%|██████████| 199/199 [00:00<?, ?it/s]4s/it]\n",
      "100%|██████████| 199/199 [00:00<?, ?it/s]9s/it]\n",
      "100%|██████████| 200/200 [00:00<?, ?it/s]9s/it]\n",
      "100%|██████████| 200/200 [00:00<?, ?it/s]9s/it]\n",
      "100%|██████████| 200/200 [00:00<?, ?it/s]7s/it]\n",
      "100%|██████████| 200/200 [00:00<?, ?it/s]6s/it]\n",
      "100%|██████████| 200/200 [00:00<?, ?it/s]5s/it]\n",
      "100%|██████████| 199/199 [00:00<?, ?it/s]6s/it]\n",
      "100%|██████████| 200/200 [00:00<00:00, 200014.50it/s]\n",
      "100%|██████████| 200/200 [00:00<?, ?it/s]7s/it]\n",
      "100%|██████████| 200/200 [00:00<?, ?it/s]6s/it]\n",
      "100%|██████████| 200/200 [00:00<?, ?it/s]0it/s]\n",
      "100%|██████████| 50/50 [00:52<00:00,  1.04s/it]\n"
     ]
    }
   ],
   "source": [
    "#creatring a list of tweeter account\n",
    "list=[]\n",
    "for i in tqdm(range(1,51)):\n",
    "    list.append(soup.findAll(attrs={'class':'plainlinks'})[i].text.split('@')[1])\n",
    "\n",
    "\n",
    "#extracting the tweets from every user ID\n",
    "tweets=[]\n",
    "for i in tqdm(list):\n",
    "    posts=api.user_timeline(screen_name=i, count=200, tweet_mode=\"extended\")\n",
    "    for t in tqdm(posts):\n",
    "        tweets.append(t.full_text)"
   ]
  },
  {
   "cell_type": "code",
   "execution_count": 7,
   "metadata": {},
   "outputs": [
    {
     "data": {
      "text/html": [
       "<div>\n",
       "<style scoped>\n",
       "    .dataframe tbody tr th:only-of-type {\n",
       "        vertical-align: middle;\n",
       "    }\n",
       "\n",
       "    .dataframe tbody tr th {\n",
       "        vertical-align: top;\n",
       "    }\n",
       "\n",
       "    .dataframe thead th {\n",
       "        text-align: right;\n",
       "    }\n",
       "</style>\n",
       "<table border=\"1\" class=\"dataframe\">\n",
       "  <thead>\n",
       "    <tr style=\"text-align: right;\">\n",
       "      <th></th>\n",
       "      <th>Tweet</th>\n",
       "    </tr>\n",
       "  </thead>\n",
       "  <tbody>\n",
       "    <tr>\n",
       "      <th>0</th>\n",
       "      <td>Election Day is right around the corner, and I...</td>\n",
       "    </tr>\n",
       "    <tr>\n",
       "      <th>1</th>\n",
       "      <td>Great news: Thanks to @POTUS, the application ...</td>\n",
       "    </tr>\n",
       "    <tr>\n",
       "      <th>2</th>\n",
       "      <td>Too many entrepreneurs feel like big instituti...</td>\n",
       "    </tr>\n",
       "    <tr>\n",
       "      <th>3</th>\n",
       "      <td>I heard there was a group of students from acr...</td>\n",
       "    </tr>\n",
       "    <tr>\n",
       "      <th>4</th>\n",
       "      <td>Michelle and I voted early today. Now it’s you...</td>\n",
       "    </tr>\n",
       "  </tbody>\n",
       "</table>\n",
       "</div>"
      ],
      "text/plain": [
       "                                               Tweet\n",
       "0  Election Day is right around the corner, and I...\n",
       "1  Great news: Thanks to @POTUS, the application ...\n",
       "2  Too many entrepreneurs feel like big instituti...\n",
       "3  I heard there was a group of students from acr...\n",
       "4  Michelle and I voted early today. Now it’s you..."
      ]
     },
     "execution_count": 7,
     "metadata": {},
     "output_type": "execute_result"
    }
   ],
   "source": [
    "df_tweets=pd.DataFrame(tweets, columns=['Tweet'])\n",
    "\n",
    "#showing the first 5 tweet data\n",
    "df_tweets.head()"
   ]
  },
  {
   "cell_type": "code",
   "execution_count": 8,
   "metadata": {},
   "outputs": [
    {
     "data": {
      "text/plain": [
       "(9974, 1)"
      ]
     },
     "execution_count": 8,
     "metadata": {},
     "output_type": "execute_result"
    }
   ],
   "source": [
    "df_tweets.shape"
   ]
  },
  {
   "cell_type": "code",
   "execution_count": 9,
   "metadata": {},
   "outputs": [],
   "source": [
    "#Creating a function to clean the tweets\n",
    "def clean(text):\n",
    "  text=re.sub(r'@[A-Za-z0-9]+','', str(text))#it removes @mentions\n",
    "  text=re.sub(r'#','', str(text))#removeing '#' symbol from text\n",
    "  text=re.sub(r':','', str(text))#removeing ':' symbol from text\n",
    "  text=re.sub(r'RT[\\S]+','', str(text))#removing RT(Re Tweet) tagged with the text\n",
    "  text=re.sub(r'http\\S+', '', text)#remove the hyper link\n",
    "  #we put '?' after s in 'https' because it can be 'http' so '?' will take 's' as 0 or 1 \n",
    "  #i.e- no matter if 's' condition is fullfilled or not it will remove it\n",
    "  #r tells the python that it is a raw string\n",
    "  return text"
   ]
  },
  {
   "cell_type": "code",
   "execution_count": 10,
   "metadata": {},
   "outputs": [
    {
     "data": {
      "text/html": [
       "<div>\n",
       "<style scoped>\n",
       "    .dataframe tbody tr th:only-of-type {\n",
       "        vertical-align: middle;\n",
       "    }\n",
       "\n",
       "    .dataframe tbody tr th {\n",
       "        vertical-align: top;\n",
       "    }\n",
       "\n",
       "    .dataframe thead th {\n",
       "        text-align: right;\n",
       "    }\n",
       "</style>\n",
       "<table border=\"1\" class=\"dataframe\">\n",
       "  <thead>\n",
       "    <tr style=\"text-align: right;\">\n",
       "      <th></th>\n",
       "      <th>Tweet</th>\n",
       "    </tr>\n",
       "  </thead>\n",
       "  <tbody>\n",
       "    <tr>\n",
       "      <th>0</th>\n",
       "      <td>Election Day is right around the corner, and I...</td>\n",
       "    </tr>\n",
       "    <tr>\n",
       "      <th>1</th>\n",
       "      <td>Great news Thanks to , the application for fed...</td>\n",
       "    </tr>\n",
       "    <tr>\n",
       "      <th>2</th>\n",
       "      <td>Too many entrepreneurs feel like big instituti...</td>\n",
       "    </tr>\n",
       "    <tr>\n",
       "      <th>3</th>\n",
       "      <td>I heard there was a group of students from acr...</td>\n",
       "    </tr>\n",
       "    <tr>\n",
       "      <th>4</th>\n",
       "      <td>Michelle and I voted early today. Now it’s you...</td>\n",
       "    </tr>\n",
       "    <tr>\n",
       "      <th>...</th>\n",
       "      <td>...</td>\n",
       "    </tr>\n",
       "    <tr>\n",
       "      <th>9969</th>\n",
       "      <td>Happy Birthday. Hope you have a good one. No ...</td>\n",
       "    </tr>\n",
       "    <tr>\n",
       "      <th>9970</th>\n",
       "      <td></td>\n",
       "    </tr>\n",
       "    <tr>\n",
       "      <th>9971</th>\n",
       "      <td>LIGHTS UP. Out now.\\n\\n</td>\n",
       "    </tr>\n",
       "    <tr>\n",
       "      <th>9972</th>\n",
       "      <td></td>\n",
       "    </tr>\n",
       "    <tr>\n",
       "      <th>9973</th>\n",
       "      <td></td>\n",
       "    </tr>\n",
       "  </tbody>\n",
       "</table>\n",
       "<p>9974 rows × 1 columns</p>\n",
       "</div>"
      ],
      "text/plain": [
       "                                                  Tweet\n",
       "0     Election Day is right around the corner, and I...\n",
       "1     Great news Thanks to , the application for fed...\n",
       "2     Too many entrepreneurs feel like big instituti...\n",
       "3     I heard there was a group of students from acr...\n",
       "4     Michelle and I voted early today. Now it’s you...\n",
       "...                                                 ...\n",
       "9969   Happy Birthday. Hope you have a good one. No ...\n",
       "9970                                                   \n",
       "9971                           LIGHTS UP. Out now.\\n\\n \n",
       "9972                                                   \n",
       "9973                                                   \n",
       "\n",
       "[9974 rows x 1 columns]"
      ]
     },
     "execution_count": 10,
     "metadata": {},
     "output_type": "execute_result"
    }
   ],
   "source": [
    "#Cleaning the text\n",
    "df_tweets['Tweet']=df_tweets['Tweet'].apply(clean)\n",
    "\n",
    "#showing cleaned text\n",
    "df_tweets"
   ]
  },
  {
   "cell_type": "markdown",
   "metadata": {},
   "source": [
    "# Creating a list of positive ang negative words"
   ]
  },
  {
   "cell_type": "code",
   "execution_count": 11,
   "metadata": {},
   "outputs": [],
   "source": [
    "#removing the stopwords and lemmatizing the words\n",
    "lemma = WordNetLemmatizer()\n",
    "stop_words = stopwords.words('english')\n",
    "\n",
    "def text_prep(x: str) -> list:\n",
    "    corp = str(x).lower() \n",
    "    corp = re.sub('[^a-zA-Z]+',' ', corp).strip() \n",
    "    tokens = word_tokenize(corp)\n",
    "    words = [t for t in tokens if t not in stop_words]\n",
    "    lemmatize = [lemma.lemmatize(w) for w in words]\n",
    "    return lemmatize"
   ]
  },
  {
   "cell_type": "code",
   "execution_count": 12,
   "metadata": {},
   "outputs": [],
   "source": [
    "#creating a dataframe of preprocessed words\n",
    "preprocess_tag = [text_prep(i) for i in df_tweets['Tweet']]\n",
    "df_tweets[\"preprocess_txt\"] = preprocess_tag"
   ]
  },
  {
   "cell_type": "code",
   "execution_count": 13,
   "metadata": {},
   "outputs": [],
   "source": [
    "#creating negative and positive score\n",
    "\n",
    "file = open('negative-words.txt')\n",
    "neg_words = file.read().split()\n",
    "\n",
    "file = open('positive-words.txt')\n",
    "pos_words = file.read().split()\n",
    "\n",
    "num_pos = df_tweets['preprocess_txt'].map(lambda x: len([i for i in x if i in neg_words]))\n",
    "\n",
    "df_tweets['POSITIVE SCORE'] = num_pos\n",
    "\n",
    "num_neg = df_tweets['preprocess_txt'].map(lambda x: len([i for i in x if i in pos_words]))\n",
    "\n",
    "df_tweets['NEGATIVE SCORE'] = num_neg\n"
   ]
  },
  {
   "cell_type": "code",
   "execution_count": 14,
   "metadata": {},
   "outputs": [
    {
     "data": {
      "text/html": [
       "<div>\n",
       "<style scoped>\n",
       "    .dataframe tbody tr th:only-of-type {\n",
       "        vertical-align: middle;\n",
       "    }\n",
       "\n",
       "    .dataframe tbody tr th {\n",
       "        vertical-align: top;\n",
       "    }\n",
       "\n",
       "    .dataframe thead th {\n",
       "        text-align: right;\n",
       "    }\n",
       "</style>\n",
       "<table border=\"1\" class=\"dataframe\">\n",
       "  <thead>\n",
       "    <tr style=\"text-align: right;\">\n",
       "      <th></th>\n",
       "      <th>Tweet</th>\n",
       "      <th>preprocess_txt</th>\n",
       "      <th>POSITIVE SCORE</th>\n",
       "      <th>NEGATIVE SCORE</th>\n",
       "    </tr>\n",
       "  </thead>\n",
       "  <tbody>\n",
       "    <tr>\n",
       "      <th>0</th>\n",
       "      <td>Election Day is right around the corner, and I...</td>\n",
       "      <td>[election, day, right, around, corner, want, c...</td>\n",
       "      <td>0</td>\n",
       "      <td>5</td>\n",
       "    </tr>\n",
       "    <tr>\n",
       "      <th>1</th>\n",
       "      <td>Great news Thanks to , the application for fed...</td>\n",
       "      <td>[great, news, thanks, application, federal, st...</td>\n",
       "      <td>1</td>\n",
       "      <td>3</td>\n",
       "    </tr>\n",
       "    <tr>\n",
       "      <th>2</th>\n",
       "      <td>Too many entrepreneurs feel like big instituti...</td>\n",
       "      <td>[many, entrepreneur, feel, like, big, institut...</td>\n",
       "      <td>1</td>\n",
       "      <td>2</td>\n",
       "    </tr>\n",
       "    <tr>\n",
       "      <th>3</th>\n",
       "      <td>I heard there was a group of students from acr...</td>\n",
       "      <td>[heard, group, student, across, chicago, getti...</td>\n",
       "      <td>0</td>\n",
       "      <td>1</td>\n",
       "    </tr>\n",
       "    <tr>\n",
       "      <th>4</th>\n",
       "      <td>Michelle and I voted early today. Now it’s you...</td>\n",
       "      <td>[michelle, voted, early, today, turn, check, v...</td>\n",
       "      <td>0</td>\n",
       "      <td>0</td>\n",
       "    </tr>\n",
       "    <tr>\n",
       "      <th>...</th>\n",
       "      <td>...</td>\n",
       "      <td>...</td>\n",
       "      <td>...</td>\n",
       "      <td>...</td>\n",
       "    </tr>\n",
       "    <tr>\n",
       "      <th>9969</th>\n",
       "      <td>Happy Birthday. Hope you have a good one. No ...</td>\n",
       "      <td>[happy, birthday, hope, good, one, bashing, h]</td>\n",
       "      <td>2</td>\n",
       "      <td>3</td>\n",
       "    </tr>\n",
       "    <tr>\n",
       "      <th>9970</th>\n",
       "      <td></td>\n",
       "      <td>[]</td>\n",
       "      <td>0</td>\n",
       "      <td>0</td>\n",
       "    </tr>\n",
       "    <tr>\n",
       "      <th>9971</th>\n",
       "      <td>LIGHTS UP. Out now.\\n\\n</td>\n",
       "      <td>[light]</td>\n",
       "      <td>0</td>\n",
       "      <td>0</td>\n",
       "    </tr>\n",
       "    <tr>\n",
       "      <th>9972</th>\n",
       "      <td></td>\n",
       "      <td>[]</td>\n",
       "      <td>0</td>\n",
       "      <td>0</td>\n",
       "    </tr>\n",
       "    <tr>\n",
       "      <th>9973</th>\n",
       "      <td></td>\n",
       "      <td>[]</td>\n",
       "      <td>0</td>\n",
       "      <td>0</td>\n",
       "    </tr>\n",
       "  </tbody>\n",
       "</table>\n",
       "<p>9974 rows × 4 columns</p>\n",
       "</div>"
      ],
      "text/plain": [
       "                                                  Tweet  \\\n",
       "0     Election Day is right around the corner, and I...   \n",
       "1     Great news Thanks to , the application for fed...   \n",
       "2     Too many entrepreneurs feel like big instituti...   \n",
       "3     I heard there was a group of students from acr...   \n",
       "4     Michelle and I voted early today. Now it’s you...   \n",
       "...                                                 ...   \n",
       "9969   Happy Birthday. Hope you have a good one. No ...   \n",
       "9970                                                      \n",
       "9971                           LIGHTS UP. Out now.\\n\\n    \n",
       "9972                                                      \n",
       "9973                                                      \n",
       "\n",
       "                                         preprocess_txt  POSITIVE SCORE  \\\n",
       "0     [election, day, right, around, corner, want, c...               0   \n",
       "1     [great, news, thanks, application, federal, st...               1   \n",
       "2     [many, entrepreneur, feel, like, big, institut...               1   \n",
       "3     [heard, group, student, across, chicago, getti...               0   \n",
       "4     [michelle, voted, early, today, turn, check, v...               0   \n",
       "...                                                 ...             ...   \n",
       "9969     [happy, birthday, hope, good, one, bashing, h]               2   \n",
       "9970                                                 []               0   \n",
       "9971                                            [light]               0   \n",
       "9972                                                 []               0   \n",
       "9973                                                 []               0   \n",
       "\n",
       "      NEGATIVE SCORE  \n",
       "0                  5  \n",
       "1                  3  \n",
       "2                  2  \n",
       "3                  1  \n",
       "4                  0  \n",
       "...              ...  \n",
       "9969               3  \n",
       "9970               0  \n",
       "9971               0  \n",
       "9972               0  \n",
       "9973               0  \n",
       "\n",
       "[9974 rows x 4 columns]"
      ]
     },
     "execution_count": 14,
     "metadata": {},
     "output_type": "execute_result"
    }
   ],
   "source": [
    "df_tweets"
   ]
  },
  {
   "cell_type": "code",
   "execution_count": 15,
   "metadata": {},
   "outputs": [],
   "source": [
    "sentiment=[]\n",
    "for i,e in zip(df_tweets['POSITIVE SCORE'],df_tweets['NEGATIVE SCORE']):\n",
    "    if i-e>0:\n",
    "        sentiment.append('positive')\n",
    "    elif i-e<0:\n",
    "        sentiment.append('negative')\n",
    "    else:\n",
    "        sentiment.append('neutral')\n",
    "df_tweets['sentiment']=sentiment"
   ]
  },
  {
   "cell_type": "code",
   "execution_count": 16,
   "metadata": {},
   "outputs": [
    {
     "data": {
      "text/html": [
       "<div>\n",
       "<style scoped>\n",
       "    .dataframe tbody tr th:only-of-type {\n",
       "        vertical-align: middle;\n",
       "    }\n",
       "\n",
       "    .dataframe tbody tr th {\n",
       "        vertical-align: top;\n",
       "    }\n",
       "\n",
       "    .dataframe thead th {\n",
       "        text-align: right;\n",
       "    }\n",
       "</style>\n",
       "<table border=\"1\" class=\"dataframe\">\n",
       "  <thead>\n",
       "    <tr style=\"text-align: right;\">\n",
       "      <th></th>\n",
       "      <th>Tweet</th>\n",
       "      <th>preprocess_txt</th>\n",
       "      <th>POSITIVE SCORE</th>\n",
       "      <th>NEGATIVE SCORE</th>\n",
       "      <th>sentiment</th>\n",
       "    </tr>\n",
       "  </thead>\n",
       "  <tbody>\n",
       "    <tr>\n",
       "      <th>0</th>\n",
       "      <td>Election Day is right around the corner, and I...</td>\n",
       "      <td>[election, day, right, around, corner, want, c...</td>\n",
       "      <td>0</td>\n",
       "      <td>5</td>\n",
       "      <td>negative</td>\n",
       "    </tr>\n",
       "    <tr>\n",
       "      <th>1</th>\n",
       "      <td>Great news Thanks to , the application for fed...</td>\n",
       "      <td>[great, news, thanks, application, federal, st...</td>\n",
       "      <td>1</td>\n",
       "      <td>3</td>\n",
       "      <td>negative</td>\n",
       "    </tr>\n",
       "    <tr>\n",
       "      <th>2</th>\n",
       "      <td>Too many entrepreneurs feel like big instituti...</td>\n",
       "      <td>[many, entrepreneur, feel, like, big, institut...</td>\n",
       "      <td>1</td>\n",
       "      <td>2</td>\n",
       "      <td>negative</td>\n",
       "    </tr>\n",
       "    <tr>\n",
       "      <th>3</th>\n",
       "      <td>I heard there was a group of students from acr...</td>\n",
       "      <td>[heard, group, student, across, chicago, getti...</td>\n",
       "      <td>0</td>\n",
       "      <td>1</td>\n",
       "      <td>negative</td>\n",
       "    </tr>\n",
       "    <tr>\n",
       "      <th>4</th>\n",
       "      <td>Michelle and I voted early today. Now it’s you...</td>\n",
       "      <td>[michelle, voted, early, today, turn, check, v...</td>\n",
       "      <td>0</td>\n",
       "      <td>0</td>\n",
       "      <td>neutral</td>\n",
       "    </tr>\n",
       "    <tr>\n",
       "      <th>...</th>\n",
       "      <td>...</td>\n",
       "      <td>...</td>\n",
       "      <td>...</td>\n",
       "      <td>...</td>\n",
       "      <td>...</td>\n",
       "    </tr>\n",
       "    <tr>\n",
       "      <th>9969</th>\n",
       "      <td>Happy Birthday. Hope you have a good one. No ...</td>\n",
       "      <td>[happy, birthday, hope, good, one, bashing, h]</td>\n",
       "      <td>2</td>\n",
       "      <td>3</td>\n",
       "      <td>negative</td>\n",
       "    </tr>\n",
       "    <tr>\n",
       "      <th>9970</th>\n",
       "      <td></td>\n",
       "      <td>[]</td>\n",
       "      <td>0</td>\n",
       "      <td>0</td>\n",
       "      <td>neutral</td>\n",
       "    </tr>\n",
       "    <tr>\n",
       "      <th>9971</th>\n",
       "      <td>LIGHTS UP. Out now.\\n\\n</td>\n",
       "      <td>[light]</td>\n",
       "      <td>0</td>\n",
       "      <td>0</td>\n",
       "      <td>neutral</td>\n",
       "    </tr>\n",
       "    <tr>\n",
       "      <th>9972</th>\n",
       "      <td></td>\n",
       "      <td>[]</td>\n",
       "      <td>0</td>\n",
       "      <td>0</td>\n",
       "      <td>neutral</td>\n",
       "    </tr>\n",
       "    <tr>\n",
       "      <th>9973</th>\n",
       "      <td></td>\n",
       "      <td>[]</td>\n",
       "      <td>0</td>\n",
       "      <td>0</td>\n",
       "      <td>neutral</td>\n",
       "    </tr>\n",
       "  </tbody>\n",
       "</table>\n",
       "<p>9974 rows × 5 columns</p>\n",
       "</div>"
      ],
      "text/plain": [
       "                                                  Tweet  \\\n",
       "0     Election Day is right around the corner, and I...   \n",
       "1     Great news Thanks to , the application for fed...   \n",
       "2     Too many entrepreneurs feel like big instituti...   \n",
       "3     I heard there was a group of students from acr...   \n",
       "4     Michelle and I voted early today. Now it’s you...   \n",
       "...                                                 ...   \n",
       "9969   Happy Birthday. Hope you have a good one. No ...   \n",
       "9970                                                      \n",
       "9971                           LIGHTS UP. Out now.\\n\\n    \n",
       "9972                                                      \n",
       "9973                                                      \n",
       "\n",
       "                                         preprocess_txt  POSITIVE SCORE  \\\n",
       "0     [election, day, right, around, corner, want, c...               0   \n",
       "1     [great, news, thanks, application, federal, st...               1   \n",
       "2     [many, entrepreneur, feel, like, big, institut...               1   \n",
       "3     [heard, group, student, across, chicago, getti...               0   \n",
       "4     [michelle, voted, early, today, turn, check, v...               0   \n",
       "...                                                 ...             ...   \n",
       "9969     [happy, birthday, hope, good, one, bashing, h]               2   \n",
       "9970                                                 []               0   \n",
       "9971                                            [light]               0   \n",
       "9972                                                 []               0   \n",
       "9973                                                 []               0   \n",
       "\n",
       "      NEGATIVE SCORE sentiment  \n",
       "0                  5  negative  \n",
       "1                  3  negative  \n",
       "2                  2  negative  \n",
       "3                  1  negative  \n",
       "4                  0   neutral  \n",
       "...              ...       ...  \n",
       "9969               3  negative  \n",
       "9970               0   neutral  \n",
       "9971               0   neutral  \n",
       "9972               0   neutral  \n",
       "9973               0   neutral  \n",
       "\n",
       "[9974 rows x 5 columns]"
      ]
     },
     "execution_count": 16,
     "metadata": {},
     "output_type": "execute_result"
    }
   ],
   "source": [
    "df_tweets"
   ]
  },
  {
   "cell_type": "code",
   "execution_count": 17,
   "metadata": {},
   "outputs": [
    {
     "data": {
      "text/plain": [
       "neutral     5240\n",
       "negative    3567\n",
       "positive    1167\n",
       "Name: sentiment, dtype: int64"
      ]
     },
     "execution_count": 17,
     "metadata": {},
     "output_type": "execute_result"
    }
   ],
   "source": [
    "df_tweets['sentiment'].value_counts()"
   ]
  },
  {
   "cell_type": "code",
   "execution_count": 42,
   "metadata": {},
   "outputs": [],
   "source": [
    "sentiment_val=[]\n",
    "\n",
    "for i in df_tweets['sentiment']:\n",
    "    if i=='positive':\n",
    "        sentiment_val.append(0)\n",
    "    elif i=='negative':\n",
    "        sentiment_val.append(1)\n",
    "    else:\n",
    "        sentiment_val.append(2)\n",
    "df_tweets['sentiment_val']=sentiment_val"
   ]
  },
  {
   "cell_type": "code",
   "execution_count": 43,
   "metadata": {},
   "outputs": [
    {
     "data": {
      "text/html": [
       "<div>\n",
       "<style scoped>\n",
       "    .dataframe tbody tr th:only-of-type {\n",
       "        vertical-align: middle;\n",
       "    }\n",
       "\n",
       "    .dataframe tbody tr th {\n",
       "        vertical-align: top;\n",
       "    }\n",
       "\n",
       "    .dataframe thead th {\n",
       "        text-align: right;\n",
       "    }\n",
       "</style>\n",
       "<table border=\"1\" class=\"dataframe\">\n",
       "  <thead>\n",
       "    <tr style=\"text-align: right;\">\n",
       "      <th></th>\n",
       "      <th>Tweet</th>\n",
       "      <th>preprocess_txt</th>\n",
       "      <th>POSITIVE SCORE</th>\n",
       "      <th>NEGATIVE SCORE</th>\n",
       "      <th>sentiment</th>\n",
       "      <th>sentiment_val</th>\n",
       "    </tr>\n",
       "  </thead>\n",
       "  <tbody>\n",
       "    <tr>\n",
       "      <th>0</th>\n",
       "      <td>Election Day is right around the corner, and I...</td>\n",
       "      <td>[election, day, right, around, corner, want, c...</td>\n",
       "      <td>0</td>\n",
       "      <td>5</td>\n",
       "      <td>negative</td>\n",
       "      <td>1</td>\n",
       "    </tr>\n",
       "  </tbody>\n",
       "</table>\n",
       "</div>"
      ],
      "text/plain": [
       "                                               Tweet  \\\n",
       "0  Election Day is right around the corner, and I...   \n",
       "\n",
       "                                      preprocess_txt  POSITIVE SCORE  \\\n",
       "0  [election, day, right, around, corner, want, c...               0   \n",
       "\n",
       "   NEGATIVE SCORE sentiment  sentiment_val  \n",
       "0               5  negative              1  "
      ]
     },
     "execution_count": 43,
     "metadata": {},
     "output_type": "execute_result"
    }
   ],
   "source": [
    "df_tweets.head(1)"
   ]
  },
  {
   "cell_type": "code",
   "execution_count": 44,
   "metadata": {},
   "outputs": [
    {
     "data": {
      "text/plain": [
       "2    5240\n",
       "1    3567\n",
       "0    1167\n",
       "Name: sentiment_val, dtype: int64"
      ]
     },
     "execution_count": 44,
     "metadata": {},
     "output_type": "execute_result"
    }
   ],
   "source": [
    "df_tweets['sentiment_val'].value_counts()"
   ]
  },
  {
   "cell_type": "code",
   "execution_count": 45,
   "metadata": {},
   "outputs": [
    {
     "name": "stdout",
     "output_type": "stream",
     "text": [
      "Tweet\n",
      "preprocess_txt\n",
      "POSITIVE SCORE\n",
      "NEGATIVE SCORE\n",
      "sentiment\n",
      "sentiment_val\n"
     ]
    }
   ],
   "source": [
    "for i in df_tweets:\n",
    "    print(i)"
   ]
  },
  {
   "cell_type": "code",
   "execution_count": 46,
   "metadata": {},
   "outputs": [],
   "source": [
    "from sklearn.feature_extraction.text import CountVectorizer\n",
    "vectorizer = CountVectorizer(max_features=1500, min_df=5, max_df=0.7, stop_words=stopwords.words('english'))\n",
    "X = vectorizer.fit_transform(df_tweets['Tweet']).toarray()\n",
    "y = df_tweets['sentiment_val']"
   ]
  },
  {
   "cell_type": "code",
   "execution_count": 47,
   "metadata": {},
   "outputs": [
    {
     "data": {
      "text/plain": [
       "2    5240\n",
       "1    3567\n",
       "0    1167\n",
       "Name: sentiment_val, dtype: int64"
      ]
     },
     "execution_count": 47,
     "metadata": {},
     "output_type": "execute_result"
    }
   ],
   "source": [
    "y.value_counts()"
   ]
  },
  {
   "cell_type": "code",
   "execution_count": 48,
   "metadata": {},
   "outputs": [],
   "source": [
    "from sklearn.model_selection import train_test_split\n",
    "x_train,x_test,y_train,y_test=train_test_split(X,y,train_size=0.75,random_state=0)"
   ]
  },
  {
   "cell_type": "code",
   "execution_count": 69,
   "metadata": {},
   "outputs": [],
   "source": [
    "from sklearn.metrics import confusion_matrix, precision_score, recall_score, f1_score, accuracy_score"
   ]
  },
  {
   "cell_type": "code",
   "execution_count": 70,
   "metadata": {},
   "outputs": [],
   "source": [
    "from sklearn.linear_model import LogisticRegression\n",
    "lr=LogisticRegression()\n",
    "model_3=lr.fit(x_train,y_train)\n",
    "y_pred=model_3.predict(x_test)"
   ]
  },
  {
   "cell_type": "code",
   "execution_count": 71,
   "metadata": {},
   "outputs": [
    {
     "name": "stdout",
     "output_type": "stream",
     "text": [
      "precision_score\n",
      " 0.7794893528006428\n",
      "recall_score\n",
      " 0.785084202085004\n",
      "f1_score\n",
      " 0.7764599650936119\n",
      "accuracy_score\n",
      " 0.785084202085004\n"
     ]
    }
   ],
   "source": [
    "#print('confusion_matrix\\n',confusion_matrix(y_test,y_pred))\n",
    "print('precision_score\\n',precision_score(y_test,y_pred,average='weighted'))\n",
    "print('recall_score\\n',recall_score(y_test,y_pred,average='weighted'))\n",
    "print('f1_score\\n',f1_score(y_test,y_pred,average='weighted'))\n",
    "print('accuracy_score\\n',accuracy_score(y_test,y_pred))"
   ]
  },
  {
   "cell_type": "code",
   "execution_count": 72,
   "metadata": {},
   "outputs": [],
   "source": [
    "from sklearn.ensemble import RandomForestClassifier\n",
    "rf=RandomForestClassifier(class_weight='balanced')\n",
    "model_1=rf.fit(x_train,y_train)\n",
    "y_pred=model_1.predict(x_test)"
   ]
  },
  {
   "cell_type": "code",
   "execution_count": 73,
   "metadata": {},
   "outputs": [
    {
     "name": "stdout",
     "output_type": "stream",
     "text": [
      "precision_score\n",
      " 0.7934943183367974\n",
      "recall_score\n",
      " 0.7919005613472334\n",
      "f1_score\n",
      " 0.7896714854797322\n",
      "accuracy_score\n",
      " 0.7919005613472334\n"
     ]
    }
   ],
   "source": [
    "#print('confusion_matrix\\n',confusion_matrix(y_test,y_pred))\n",
    "print('precision_score\\n',precision_score(y_test,y_pred,average='weighted'))\n",
    "print('recall_score\\n',recall_score(y_test,y_pred,average='weighted'))\n",
    "print('f1_score\\n',f1_score(y_test,y_pred,average='weighted'))\n",
    "print('accuracy_score\\n',accuracy_score(y_test,y_pred))"
   ]
  },
  {
   "cell_type": "code",
   "execution_count": 74,
   "metadata": {},
   "outputs": [],
   "source": [
    "from xgboost import XGBClassifier \n",
    "xgb=XGBClassifier()\n",
    "model_2=xgb.fit(x_train,y_train)\n",
    "y_pred=model_2.predict(x_test)"
   ]
  },
  {
   "cell_type": "code",
   "execution_count": 75,
   "metadata": {},
   "outputs": [
    {
     "name": "stdout",
     "output_type": "stream",
     "text": [
      "precision_score\n",
      " 0.8033374461914211\n",
      "recall_score\n",
      " 0.8011226944667201\n",
      "f1_score\n",
      " 0.7871472044308623\n",
      "accuracy_score\n",
      " 0.8011226944667201\n"
     ]
    }
   ],
   "source": [
    "#print('confusion_matrix\\n',confusion_matrix(y_test,y_pred))\n",
    "print('precision_score\\n',precision_score(y_test,y_pred,average='weighted'))\n",
    "print('recall_score\\n',recall_score(y_test,y_pred,average='weighted'))\n",
    "print('f1_score\\n',f1_score(y_test,y_pred,average='weighted'))\n",
    "print('accuracy_score\\n',accuracy_score(y_test,y_pred))"
   ]
  },
  {
   "cell_type": "code",
   "execution_count": null,
   "metadata": {},
   "outputs": [],
   "source": []
  }
 ],
 "metadata": {
  "kernelspec": {
   "display_name": "Python 3.10.7 64-bit",
   "language": "python",
   "name": "python3"
  },
  "language_info": {
   "codemirror_mode": {
    "name": "ipython",
    "version": 3
   },
   "file_extension": ".py",
   "mimetype": "text/x-python",
   "name": "python",
   "nbconvert_exporter": "python",
   "pygments_lexer": "ipython3",
   "version": "3.10.7"
  },
  "orig_nbformat": 4,
  "vscode": {
   "interpreter": {
    "hash": "3c00bb8777a16b9f6f9f8f88b290febd2fc5f42a1d51aa0743e51f8c2127765d"
   }
  }
 },
 "nbformat": 4,
 "nbformat_minor": 2
}
